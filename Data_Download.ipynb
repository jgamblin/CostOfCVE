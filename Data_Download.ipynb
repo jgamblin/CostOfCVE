{
 "cells": [
  {
   "cell_type": "markdown",
   "metadata": {},
   "source": [
    "# Import Libraries"
   ]
  },
  {
   "cell_type": "code",
   "execution_count": 1,
   "id": "import-statements",
   "metadata": {},
   "outputs": [],
   "source": [
    "import os\n",
    "import subprocess\n",
    "from tqdm import tqdm"
   ]
  },
  {
   "cell_type": "markdown",
   "metadata": {},
   "source": [
    "# Download CVE Files from GitHub Repository"
   ]
  },
  {
   "cell_type": "code",
   "execution_count": 2,
   "id": "download-cve-files",
   "metadata": {},
   "outputs": [
    {
     "name": "stderr",
     "output_type": "stream",
     "text": [
      "Cloning repository:   0%|          | 0/3 [00:00<?, ?it/s]Cloning into './CVE'...\n",
      "Cloning repository: 100%|██████████| 3/3 [02:05<00:00, 41.71s/it]\n"
     ]
    },
    {
     "name": "stdout",
     "output_type": "stream",
     "text": [
      "Repository is up to date\n"
     ]
    },
    {
     "name": "stderr",
     "output_type": "stream",
     "text": [
      "Processing files: 100%|██████████| 29/29 [00:00<00:00, 602152.55it/s]\n"
     ]
    }
   ],
   "source": [
    "repo_url = 'https://github.com/CVEProject/cvelistV5.git'\n",
    "cve_folder = './CVE'\n",
    "sparse_folder = 'cves/'\n",
    "\n",
    "# Clone the repository if the folder doesn't exist, otherwise pull the latest changes\n",
    "try:\n",
    "    if not os.path.exists(cve_folder) or not os.listdir(cve_folder):\n",
    "        if os.path.exists(cve_folder):\n",
    "            subprocess.run(['rm', '-rf', cve_folder])\n",
    "        os.makedirs(cve_folder, exist_ok=True)\n",
    "        with tqdm(total=3, desc=\"Cloning repository\") as pbar:\n",
    "            subprocess.run(['git', 'clone', '--filter=blob:none', '--sparse', repo_url, cve_folder], check=True)\n",
    "            pbar.update(1)\n",
    "            subprocess.run(['git', '-C', cve_folder, 'sparse-checkout', 'set', sparse_folder], check=True)\n",
    "            pbar.update(1)\n",
    "            pbar.update(1)\n",
    "    else:\n",
    "        with tqdm(total=1, desc=\"Pulling latest changes\") as pbar:\n",
    "            subprocess.run(['git', '-C', cve_folder, 'pull', '-q'], check=True)\n",
    "            pbar.update(1)\n",
    "    print('Repository is up to date')\n",
    "except subprocess.CalledProcessError:\n",
    "    print('Error occurred, removing .git folder and re-cloning the repository')\n",
    "    git_folder = os.path.join(cve_folder, '.git')\n",
    "    if os.path.exists(git_folder):\n",
    "        subprocess.run(['rm', '-rf', git_folder])\n",
    "    os.makedirs(cve_folder, exist_ok=True)\n",
    "    with tqdm(total=3, desc=\"Re-cloning repository\") as pbar:\n",
    "        subprocess.run(['git', 'clone', '--filter=blob:none', '--sparse', repo_url, cve_folder], check=True)\n",
    "        pbar.update(1)\n",
    "        subprocess.run(['git', '-C', cve_folder, 'sparse-checkout', 'set', sparse_folder], check=True)\n",
    "        pbar.update(1)\n",
    "        pbar.update(1)\n",
    "    print('Repository re-cloned successfully')\n",
    "\n",
    "# Display progress bar\n",
    "files = os.listdir(os.path.join(cve_folder, sparse_folder))\n",
    "for file in tqdm(files, desc=\"Processing files\"):\n",
    "    # Process each file\n",
    "    pass"
   ]
  }
 ],
 "metadata": {
  "kernelspec": {
   "display_name": "Python 3",
   "language": "python",
   "name": "python3"
  },
  "language_info": {
   "codemirror_mode": {
    "name": "ipython",
    "version": 3
   },
   "file_extension": ".py",
   "mimetype": "text/x-python",
   "name": "python",
   "nbconvert_exporter": "python",
   "pygments_lexer": "ipython3",
   "version": "3.13.2"
  }
 },
 "nbformat": 4,
 "nbformat_minor": 2
}
